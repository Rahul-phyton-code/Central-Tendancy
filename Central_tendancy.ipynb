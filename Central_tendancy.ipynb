{
  "nbformat": 4,
  "nbformat_minor": 0,
  "metadata": {
    "colab": {
      "provenance": [],
      "authorship_tag": "ABX9TyON8F1x2vjW2BUcDSAglQeV",
      "include_colab_link": true
    },
    "kernelspec": {
      "name": "python3",
      "display_name": "Python 3"
    },
    "language_info": {
      "name": "python"
    }
  },
  "cells": [
    {
      "cell_type": "markdown",
      "metadata": {
        "id": "view-in-github",
        "colab_type": "text"
      },
      "source": [
        "<a href=\"https://colab.research.google.com/github/Rahul-phyton-code/Central-Tendancy/blob/main/Central_tendancy.ipynb\" target=\"_parent\"><img src=\"https://colab.research.google.com/assets/colab-badge.svg\" alt=\"Open In Colab\"/></a>"
      ]
    },
    {
      "cell_type": "markdown",
      "source": [
        "1.) There are three main measures of central tendancy:-\n",
        "\n",
        "a.) Mean\n",
        "b.) Median\n",
        "c.) Mode\n",
        "\n",
        "       "
      ],
      "metadata": {
        "id": "mEqtDDdeDxi3"
      }
    },
    {
      "cell_type": "markdown",
      "source": [
        "2.)"
      ],
      "metadata": {
        "id": "fDMC672MH0iz"
      }
    },
    {
      "cell_type": "markdown",
      "source": [
        "a.) Mean - The mean is the sum of the value of each observation in a dataset divided by the number of observations. This is also known as the arithmetic average. \n",
        "       mean(μ) = μ = ( Σ Xi ) / N\n",
        "Where, Σ Xi = the sum of all scores present in the population  \n",
        "       N = the total number of individuals or cases in the population.  \n",
        "\n",
        "b.) Median - The median is the middle value in distribution when the values are arranged in ascending or descending order.\n",
        "        1.) Even case\n",
        "         x = [4,5,2,3,2,1]\n",
        "        after sort , x = [1,2,2,3,4,5]\n",
        "           Median = 2+3/2 =2.5(Median)\n",
        "      2.) Odd Case\n",
        "        x = [1,2,2,3,4,5,7]\n",
        "        Median = 3\n",
        "c.) Mode - The mode is the most commonly occurring value in a distribution(Maximum Frequency).\n",
        "\n",
        "Ex - Consider this dataset showing the retirement age of 11 people, in whole years:\n",
        "\n",
        "54, 54, 54, 55, 56, 57, 57, 58, 58, 60, 60   \n",
        "\n",
        "The most commonly occurring value is 54, therefore the mode of this distribution is 54 years.  \n",
        "\n",
        "- A measure of central tendency (also referred to as measures of centre or central location) is a summary measure that attempts to describe a whole set of data with a single value that represents the middle or centre of its distribution.\n",
        "       "
      ],
      "metadata": {
        "id": "A9IsakAAJaww"
      }
    },
    {
      "cell_type": "markdown",
      "source": [
        "3.)"
      ],
      "metadata": {
        "id": "JoX5uaFzKGBR"
      }
    },
    {
      "cell_type": "code",
      "source": [
        "import numpy as np\n",
        "from scipy import stats\n",
        "a = [178,177,176,177,178.2,178,175,179,180,175,178.9,176.2,177,172.5,178,176.5]\n",
        "np.mean(a)\n",
        "np.median(a)\n",
        "stats.mode(a)"
      ],
      "metadata": {
        "colab": {
          "base_uri": "https://localhost:8080/"
        },
        "id": "oVt3ZsZeKHl9",
        "outputId": "bac1f1d8-454d-450b-92e5-1c01bcb3f302"
      },
      "execution_count": 1,
      "outputs": [
        {
          "output_type": "stream",
          "name": "stderr",
          "text": [
            "<ipython-input-1-355ab03b2ff8>:6: FutureWarning: Unlike other reduction functions (e.g. `skew`, `kurtosis`), the default behavior of `mode` typically preserves the axis it acts along. In SciPy 1.11.0, this behavior will change: the default value of `keepdims` will become False, the `axis` over which the statistic is taken will be eliminated, and the value None will no longer be accepted. Set `keepdims` to True or False to avoid this warning.\n",
            "  stats.mode(a)\n"
          ]
        },
        {
          "output_type": "execute_result",
          "data": {
            "text/plain": [
              "ModeResult(mode=array([177.]), count=array([3]))"
            ]
          },
          "metadata": {},
          "execution_count": 1
        }
      ]
    },
    {
      "cell_type": "markdown",
      "source": [
        "4.) "
      ],
      "metadata": {
        "id": "B9r2jqihLDD1"
      }
    },
    {
      "cell_type": "code",
      "source": [
        "b = [178,177,176,177,178.2,178,175,179,180,175,178.9,176.2,177,172.5,178,176.5]\n",
        "std = np.std(b)\n",
        "std"
      ],
      "metadata": {
        "colab": {
          "base_uri": "https://localhost:8080/"
        },
        "id": "F69BLr1DLH9e",
        "outputId": "33064939-f843-42f8-8fd6-cfdf34ca5dc3"
      },
      "execution_count": 2,
      "outputs": [
        {
          "output_type": "execute_result",
          "data": {
            "text/plain": [
              "1.7885814036548633"
            ]
          },
          "metadata": {},
          "execution_count": 2
        }
      ]
    },
    {
      "cell_type": "markdown",
      "source": [
        "5.) a.) Range - The range is the easiest dispersion of data or measure of variability. The range can measure by subtracting the lowest value from the massive Number. The wide range indicates high variability, and the small range specifies low variability in the distribution. To calculate a range, prepare all the values in ascending order, then subtract the lowest value from the highest value.\n",
        "                 Range = Highest_value  - Lowest_value\n",
        "                 \n",
        "b.) Variance\n",
        "Variance is a simple measure of dispersion. Variance measures how far each number in the dataset from the mean. To compute variance first, calculate the mean and squared deviations from a mean.\n",
        "\n",
        "c.) Standard Deviation\n",
        "Standard deviation is a squared root of the variance to get original values. Low standard deviation indicates data points close to mean.           \n",
        "\n"
      ],
      "metadata": {
        "id": "NKauXiDYMrqZ"
      }
    },
    {
      "cell_type": "markdown",
      "source": [
        "6.) A Venn diagram illustrates the relationships between two or more data sets. Venn diagrams are especially useful for highlighting similarities and differences and are commonly used to compare and contrast the characteristics of different data sets. In a Venn diagram, circles are used to represent each data set."
      ],
      "metadata": {
        "id": "QJwcR8OkODj2"
      }
    },
    {
      "cell_type": "markdown",
      "source": [
        "7.) "
      ],
      "metadata": {
        "id": "p-qRHcKbOFj8"
      }
    },
    {
      "cell_type": "code",
      "source": [
        "A = {2,3,4,5,6,7}\n",
        "B = {0,2,6,8,10}\n",
        "print(A.union(B))\n",
        "print(A.intersection(B))"
      ],
      "metadata": {
        "colab": {
          "base_uri": "https://localhost:8080/"
        },
        "id": "7r9raz75OIM_",
        "outputId": "1404aa09-b415-4f96-9b89-1ecdef5f7f8e"
      },
      "execution_count": 11,
      "outputs": [
        {
          "output_type": "stream",
          "name": "stdout",
          "text": [
            "{0, 2, 3, 4, 5, 6, 7, 8, 10}\n",
            "{2, 6}\n"
          ]
        }
      ]
    },
    {
      "cell_type": "markdown",
      "source": [
        "8.) Skewness is a measure of the asymmetry of a distribution. A distribution is asymmetrical when its left and right side are not mirror images."
      ],
      "metadata": {
        "id": "r5wmagU0Ysno"
      }
    },
    {
      "cell_type": "markdown",
      "source": [
        "9.) When the distribution is skewed to the right, the mean is often greater than the median"
      ],
      "metadata": {
        "id": "VWu8gJceZDVI"
      }
    },
    {
      "cell_type": "markdown",
      "source": [
        "10.) Covariance is a measure of how two variables vary together, while Correlation is a measure of the strength of the relationship between two variables\n",
        "      \n",
        "Covariance - Suppose Xand Y are two random variables such that if X (increase or decrease) the Y also (increase or decrease) then we can say Both X and Y have postive Covariance.\n",
        "                     n\n",
        "          Cov(X,Y) = Σ      (xi - x̄)(yi - ȳ)\n",
        "                    i = 1  ___________________\n",
        "                                  n-1\n",
        "Correlation - \n",
        "Correlation (S(X,Y)) = cov(X,Y)\n",
        "                      __________    [Pearson Correlation Coefficient]\n",
        "                        σx σy    \n",
        "Correlation(s) = cov(R(X),R(Y))\n",
        "                ________________\n",
        "                 σ(R(X)* σ(R(Y)"
      ],
      "metadata": {
        "id": "6KbsSlb5ZF9l"
      }
    },
    {
      "cell_type": "markdown",
      "source": [
        "11.) The general formula for calculating the sample mean is given by\n",
        "                  x̄ = ( Σ xi ) / n"
      ],
      "metadata": {
        "id": "j0N1KZRxpNz1"
      }
    },
    {
      "cell_type": "code",
      "source": [
        "import numpy as np\n",
        "from scipy import stats\n",
        "a = [11,12,13,14,24,45,67,45]\n",
        "np.mean(a)\n"
      ],
      "metadata": {
        "colab": {
          "base_uri": "https://localhost:8080/"
        },
        "id": "4Qe7ESeBAAyb",
        "outputId": "ec216444-2d57-42f1-e6f2-b684ae5afb4d"
      },
      "execution_count": 1,
      "outputs": [
        {
          "output_type": "execute_result",
          "data": {
            "text/plain": [
              "28.875"
            ]
          },
          "metadata": {},
          "execution_count": 1
        }
      ]
    },
    {
      "cell_type": "markdown",
      "source": [
        "12.) For a normal distribution data , mean = median = mode (which is also for normal/gaussian distribution)"
      ],
      "metadata": {
        "id": "aPEpnLUpAVlU"
      }
    },
    {
      "cell_type": "markdown",
      "source": [
        "13.) Covariance and correlation are two terms that are opposed and are both used in statistics and regression analysis. Covariance shows you how the two variables differ, whereas correlation shows you how the two variables are related"
      ],
      "metadata": {
        "id": "8qvDo1seBC6-"
      }
    },
    {
      "cell_type": "markdown",
      "source": [
        "14.) Outliers are numbers in a data set that are vastly larger or smaller than the other values in the set. Mean, median and mode are measures of central tendency. Mean is the only measure of central tendency that is always affected by an outlier. "
      ],
      "metadata": {
        "id": "uoCIFARCBFkc"
      }
    }
  ]
}