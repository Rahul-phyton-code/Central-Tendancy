{
  "nbformat": 4,
  "nbformat_minor": 0,
  "metadata": {
    "colab": {
      "provenance": [],
      "authorship_tag": "ABX9TyO4RH4usZIWD/o6cic6YwBh",
      "include_colab_link": true
    },
    "kernelspec": {
      "name": "python3",
      "display_name": "Python 3"
    },
    "language_info": {
      "name": "python"
    }
  },
  "cells": [
    {
      "cell_type": "markdown",
      "metadata": {
        "id": "view-in-github",
        "colab_type": "text"
      },
      "source": [
        "<a href=\"https://colab.research.google.com/github/Rahul-phyton-code/Central-Tendancy/blob/main/Exeption_handling.ipynb\" target=\"_parent\"><img src=\"https://colab.research.google.com/assets/colab-badge.svg\" alt=\"Open In Colab\"/></a>"
      ]
    },
    {
      "cell_type": "markdown",
      "source": [
        "1.) The construction of custom exception classes can enrich our class design. A custom error class could logs errors, inspect an object. It is up to us what the exception class does, although a custom class will not usually do a great deal more than display a message.\n",
        "\n"
      ],
      "metadata": {
        "id": "8meVitzZA-hg"
      }
    },
    {
      "cell_type": "markdown",
      "source": [
        "2.)"
      ],
      "metadata": {
        "id": "rNGNHRXGOdfk"
      }
    },
    {
      "cell_type": "code",
      "source": [
        "# define Python user-defined exceptions\n",
        "class InvalidAgeException(Exception):\n",
        "    \"Raised when the input value is less than 18\"\n",
        "    pass\n",
        "\n",
        "# you need to guess this number\n",
        "number = 18\n",
        "\n",
        "try:\n",
        "    input_num = int(input(\"Enter a number: \"))\n",
        "    if input_num < number:\n",
        "        raise InvalidAgeException\n",
        "    else:\n",
        "        print(\"Eligible to Vote\")\n",
        "        \n",
        "except InvalidAgeException:\n",
        "    print(\"Exception occurred: Invalid Age\")"
      ],
      "metadata": {
        "id": "89i-fetZNCUH"
      },
      "execution_count": null,
      "outputs": []
    },
    {
      "cell_type": "markdown",
      "source": [
        "3.) There are various types of arithmetic errors such as :\n",
        "a.)OverflowError\n",
        "b.)ZeroDivisionError\n",
        "c.)FloatingPointError"
      ],
      "metadata": {
        "id": "IHgsIrsbPNmU"
      }
    },
    {
      "cell_type": "code",
      "source": [
        "try:\n",
        "\ta = 10/0\n",
        "\tprint (a)\n",
        "except ArithmeticError:\n",
        "\t\tprint (\"This statement is raising an arithmetic exception.\")\n",
        "else:\n",
        "\tprint (\"Success.\")\n"
      ],
      "metadata": {
        "colab": {
          "base_uri": "https://localhost:8080/"
        },
        "id": "l-XEjkaPP2et",
        "outputId": "16f29a3f-0a82-45b8-b7b8-cf16ddb78793"
      },
      "execution_count": 1,
      "outputs": [
        {
          "output_type": "stream",
          "name": "stdout",
          "text": [
            "This statement is raising an arithmetic exception.\n"
          ]
        }
      ]
    },
    {
      "cell_type": "markdown",
      "source": [
        "4.) The LookupError exception in Python forms the base class for all exceptions that are raised when an index or a key is not found for a sequence or dictionary respectively. IndexError is raised when trying to access an invalid index within a list , the KeyError is raised when accessing an invalid key within a dict."
      ],
      "metadata": {
        "id": "lcS4ttoGhjTK"
      }
    },
    {
      "cell_type": "markdown",
      "source": [
        "5.)  ImportError occurs when the Python program tries to import module which does not exist in the private table.\n",
        "ModulenotfoundError occurs when you're trying to access or use a module that cannot be found"
      ],
      "metadata": {
        "id": "miRflmAoMRnE"
      }
    },
    {
      "cell_type": "markdown",
      "source": [
        "6.)The cornerstone of Python exception handling lies in the try, except, and finally blocks. These essential constructs enable you to separate the code that might raise an exception from the code that handles the exception, making your programs more robust and easier to maintain"
      ],
      "metadata": {
        "id": "BR6sY5MMM6YJ"
      }
    }
  ]
}